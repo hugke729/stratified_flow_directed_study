{
 "cells": [
  {
   "cell_type": "markdown",
   "metadata": {
    "collapsed": true
   },
   "source": [
    "# Steady flow over a gaussian bump"
   ]
  },
  {
   "cell_type": "code",
   "execution_count": 1,
   "metadata": {
    "collapsed": false
   },
   "outputs": [],
   "source": [
    "import numpy as np\n",
    "import numpy.ma as ma\n",
    "import matplotlib.pyplot as plt\n",
    "from xmitgcm import open_mdsdataset\n",
    "\n",
    "%matplotlib inline\n",
    "\n",
    "runs_dir = '../runs/'\n",
    "\n",
    "# Higher Froude number required small time step to ensure CFL criterion\n",
    "# not exceeded\n",
    "deltaTs = {'216': 6, '1300': 6, '3900': 4}\n",
    "show_time = 43200"
   ]
  },
  {
   "cell_type": "code",
   "execution_count": 3,
   "metadata": {
    "collapsed": false
   },
   "outputs": [
    {
     "ename": "KeyError",
     "evalue": "'216'",
     "output_type": "error",
     "traceback": [
      "\u001b[0;31m---------------------------------------------------------------------------\u001b[0m",
      "\u001b[0;31mKeyError\u001b[0m                                  Traceback (most recent call last)",
      "\u001b[0;32m<ipython-input-3-6e2b324a5b5e>\u001b[0m in \u001b[0;36m<module>\u001b[0;34m()\u001b[0m\n\u001b[1;32m      9\u001b[0m \u001b[0;32mfor\u001b[0m \u001b[0mi\u001b[0m\u001b[0;34m,\u001b[0m \u001b[0mFr\u001b[0m \u001b[0;32min\u001b[0m \u001b[0menumerate\u001b[0m\u001b[0;34m(\u001b[0m\u001b[0;34m[\u001b[0m\u001b[0;34m'216'\u001b[0m\u001b[0;34m,\u001b[0m \u001b[0;34m'1300'\u001b[0m\u001b[0;34m,\u001b[0m \u001b[0;34m'3900'\u001b[0m\u001b[0;34m]\u001b[0m\u001b[0;34m)\u001b[0m\u001b[0;34m:\u001b[0m\u001b[0;34m\u001b[0m\u001b[0m\n\u001b[1;32m     10\u001b[0m     \u001b[0;32mfor\u001b[0m \u001b[0mj\u001b[0m\u001b[0;34m,\u001b[0m \u001b[0mshow_time\u001b[0m \u001b[0;32min\u001b[0m \u001b[0menumerate\u001b[0m\u001b[0;34m(\u001b[0m\u001b[0;34m[\u001b[0m\u001b[0;36m3600\u001b[0m\u001b[0;34m,\u001b[0m \u001b[0;36m7200\u001b[0m\u001b[0;34m,\u001b[0m \u001b[0;36m21600\u001b[0m\u001b[0;34m,\u001b[0m \u001b[0;36m43200\u001b[0m\u001b[0;34m]\u001b[0m\u001b[0;34m)\u001b[0m\u001b[0;34m:\u001b[0m\u001b[0;34m\u001b[0m\u001b[0m\n\u001b[0;32m---> 11\u001b[0;31m         \u001b[0mout_iter\u001b[0m \u001b[0;34m=\u001b[0m \u001b[0mshow_time\u001b[0m\u001b[0;34m/\u001b[0m\u001b[0mdeltaTs\u001b[0m\u001b[0;34m[\u001b[0m\u001b[0mFr\u001b[0m\u001b[0;34m]\u001b[0m\u001b[0;34m\u001b[0m\u001b[0m\n\u001b[0m\u001b[1;32m     12\u001b[0m         \u001b[0max\u001b[0m \u001b[0;34m=\u001b[0m \u001b[0maxs\u001b[0m\u001b[0;34m[\u001b[0m\u001b[0mi\u001b[0m\u001b[0;34m,\u001b[0m \u001b[0mj\u001b[0m\u001b[0;34m]\u001b[0m\u001b[0;34m\u001b[0m\u001b[0m\n\u001b[1;32m     13\u001b[0m         \u001b[0mrun_dir\u001b[0m \u001b[0;34m=\u001b[0m \u001b[0mruns_dir\u001b[0m \u001b[0;34m+\u001b[0m \u001b[0;34m'RunFr'\u001b[0m \u001b[0;34m+\u001b[0m \u001b[0mFr\u001b[0m\u001b[0;34m\u001b[0m\u001b[0m\n",
      "\u001b[0;31mKeyError\u001b[0m: '216'"
     ]
    },
    {
     "data": {
      "image/png": "[encoded data removed]",
      "text/plain": [
       "<matplotlib.figure.Figure at 0x7f4c502efc88>"
      ]
     },
     "metadata": {},
     "output_type": "display_data"
    }
   ],
   "source": [
    "# Factor of three in Fr requires factor of three scaling for velocity\n",
    "plot_opts = {'216': dict(vmax=0.2),\n",
    "             '1300': dict(vmax=0.6),\n",
    "             '3900': dict(vmax=1.8)}\n",
    "\n",
    "fig, axs = plt.subplots(figsize=(15, 13), nrows=2, ncols=4, \n",
    "                        sharex=True, sharey=True)\n",
    "\n",
    "for i, Fr in enumerate(['216', '1300', '3900']):\n",
    "    for j, show_time in enumerate([3600, 7200, 21600, 43200]):\n",
    "        out_iter = show_time/deltaTs[Fr]\n",
    "        ax = axs[i, j]\n",
    "        run_dir = runs_dir + 'RunFr' + Fr\n",
    "        ds = open_mdsdataset(run_dir, prefix=['T', 'U'], iters=[out_iter])\n",
    "\n",
    "        ds=ds.assign_coords(xc0 = (ds.XC - ds.XC.mean())/1000)\n",
    "\n",
    "        cax = ax.pcolormesh(ds.xc0, ds.Zp1, ds['U'].squeeze()[:, :-1],\n",
    "                            vmin=0, cmap='afmhot_r', **plot_opts[Fr])\n",
    "        ax.contour(ds.xc0, ds.Z, ds['T'].squeeze(), colors='k')\n",
    "\n",
    "        ax.fill_between(ds.xc0, -ds.Depth.squeeze(), -2000, color='Grey')\n",
    "\n",
    "        time_hrs = out_iter*deltaTs[Fr]/3600\n",
    "        ax.set(xlim=(-10, 10), \n",
    "                title='Fr: 0.' + Fr + ',  Time (hrs) :' + str(time_hrs))\n",
    "    cbar = fig.colorbar(cax, ax=list(axs[i, :]))\n",
    "    cbar.set_label('U-velocity (m/s)')\n",
    "    \n",
    "\n",
    "[ax.set_ylabel('Depth (m)') for ax in axs[:, 0]]\n",
    "axs[1, 1].set_xlabel('Distance (km)')"
   ]
  },
  {
   "cell_type": "code",
   "execution_count": null,
   "metadata": {
    "collapsed": true
   },
   "outputs": [],
   "source": []
  }
 ],
 "metadata": {
  "anaconda-cloud": {},
  "kernelspec": {
   "display_name": "Python [Root]",
   "language": "python",
   "name": "Python [Root]"
  },
  "language_info": {
   "codemirror_mode": {
    "name": "ipython",
    "version": 3
   },
   "file_extension": ".py",
   "mimetype": "text/x-python",
   "name": "python",
   "nbconvert_exporter": "python",
   "pygments_lexer": "ipython3",
   "version": "3.5.2"
  }
 },
 "nbformat": 4,
 "nbformat_minor": 0
}
